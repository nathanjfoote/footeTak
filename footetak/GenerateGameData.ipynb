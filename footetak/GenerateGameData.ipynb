{
 "cells": [
  {
   "cell_type": "code",
   "execution_count": 1,
   "id": "f279fe79",
   "metadata": {},
   "outputs": [
    {
     "data": {
      "text/plain": [
       "PyObject <module 'foote_tak' from '/Users/natefoote/DMU++/footetak/foote-tak/foote_tak/__init__.py'>"
      ]
     },
     "execution_count": 1,
     "metadata": {},
     "output_type": "execute_result"
    }
   ],
   "source": [
    "include(\"footeMCTS.jl\")\n",
    "include(\"alphataknn.jl\")\n",
    "\n",
    "using POMDPs\n",
    "using PyCall\n",
    "using Printf\n",
    "using StatsBase\n",
    "using ProgressMeter\n",
    "using CSV, DataFrames\n",
    "\n",
    "gym = pyimport(\"gym\")\n",
    "foote_tak = pyimport(\"foote_tak\")"
   ]
  },
  {
   "cell_type": "code",
   "execution_count": 2,
   "id": "a2448982",
   "metadata": {},
   "outputs": [
    {
     "data": {
      "text/plain": [
       "PyObject <OrderEnforcing<PassiveEnvChecker<TakEnv<Tak-v0>>>>"
      ]
     },
     "execution_count": 2,
     "metadata": {},
     "output_type": "execute_result"
    }
   ],
   "source": [
    "env = gym.make(\"Tak-v0\")"
   ]
  },
  {
   "cell_type": "code",
   "execution_count": 9,
   "id": "07299008",
   "metadata": {},
   "outputs": [
    {
     "name": "stderr",
     "output_type": "stream",
     "text": [
      "\u001b[32mProgress: 100%|█████████████████████████████████████████| Time: 0:07:21\u001b[39m\n"
     ]
    }
   ],
   "source": [
    "# Player options:\n",
    "# :random -> player takes random valid action\n",
    "# :MCTS -> player takes action using MCTS\n",
    "# :AlphaTak -> player takes action using AlphaTak agent\n",
    "players = Dict(\n",
    "    1 => :random,\n",
    "    -1 => :MCTS,\n",
    ")\n",
    "\n",
    "games = []\n",
    "\n",
    "@showprogress for _ in 1:50\n",
    "    moves, board, winner = play_tak_no_render(players)\n",
    "    push!(games, (moves, board, winner))\n",
    "end"
   ]
  },
  {
   "cell_type": "code",
   "execution_count": 10,
   "id": "57993d56",
   "metadata": {},
   "outputs": [],
   "source": [
    "df = DataFrame(Moves = first.(games), Board = getindex.(games, 2), Winner = last.(games));"
   ]
  },
  {
   "cell_type": "code",
   "execution_count": 11,
   "id": "dd232a66",
   "metadata": {},
   "outputs": [
    {
     "data": {
      "text/plain": [
       "\"50_random_vs_MCTS_100_Sims.csv\""
      ]
     },
     "execution_count": 11,
     "metadata": {},
     "output_type": "execute_result"
    }
   ],
   "source": [
    "CSV.write(\"50_random_vs_MCTS_100_Sims.csv\", df)"
   ]
  },
  {
   "cell_type": "code",
   "execution_count": null,
   "id": "cf407ab6",
   "metadata": {},
   "outputs": [],
   "source": []
  }
 ],
 "metadata": {
  "@webio": {
   "lastCommId": null,
   "lastKernelId": null
  },
  "kernelspec": {
   "display_name": "Julia 1.9.4",
   "language": "julia",
   "name": "julia-1.9"
  },
  "language_info": {
   "file_extension": ".jl",
   "mimetype": "application/julia",
   "name": "julia",
   "version": "1.9.4"
  }
 },
 "nbformat": 4,
 "nbformat_minor": 5
}
